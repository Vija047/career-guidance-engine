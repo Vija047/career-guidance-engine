{
 "cells": [
  {
   "cell_type": "code",
   "execution_count": null,
   "id": "e1f323a8",
   "metadata": {
    "vscode": {
     "languageId": "plaintext"
    }
   },
   "outputs": [],
   "source": [
    "rom sentence_transformers import SentenceTransformer\n",
    "import pickle\n",
    "\n",
    "model = SentenceTransformer('all-MiniLM-L6-v2')\n",
    "skill_texts = [\"Python\", \"Data Analysis\", \"Machine Learning\", \"UI Design\", \"Accounting\"]\n",
    "embeddings = model.encode(skill_texts)\n",
    "\n",
    "with open(\"embeddings.pkl\", \"wb\") as f:\n",
    "    pickle.dump((skill_texts, embeddings), f)"
   ]
  }
 ],
 "metadata": {
  "language_info": {
   "name": "python"
  }
 },
 "nbformat": 4,
 "nbformat_minor": 5
}
