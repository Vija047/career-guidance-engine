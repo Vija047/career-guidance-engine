{
 "cells": [
  {
   "cell_type": "code",
   "execution_count": null,
   "id": "1049a02d",
   "metadata": {
    "vscode": {
     "languageId": "plaintext"
    }
   },
   "outputs": [],
   "source": [
    "from transformers import pipeline\n",
    "\n",
    "# Use a zero-shot classification pipeline to infer goals\n",
    "classifier = pipeline(\"zero-shot-classification\")\n",
    "text = \"I want to become a software engineer and build innovative apps.\"\n",
    "candidate_labels = [\"Engineering\", \"Medical\", \"Design\", \"Law\", \"Finance\"]\n",
    "\n",
    "result = classifier(text, candidate_labels)\n",
    "print(\"Predicted goal:\", result[\"labels\"][0])\n",
    "\n",
    "# Save using torch\n",
    "import torch\n",
    "from transformers import BertForSequenceClassification\n",
    "model = BertForSequenceClassification.from_pretrained(\"bert-base-uncased\")\n",
    "torch.save(model.state_dict(), \"goal_model.pt\")\n"
   ]
  }
 ],
 "metadata": {
  "language_info": {
   "name": "python"
  }
 },
 "nbformat": 4,
 "nbformat_minor": 5
}
